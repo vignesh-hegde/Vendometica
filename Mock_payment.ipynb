{
 "cells": [
  {
   "cell_type": "code",
   "execution_count": 1,
   "id": "d7d5bf05",
   "metadata": {},
   "outputs": [],
   "source": [
    "import requests\n",
    "import json\n",
    "\n",
    "null = \"null\"\n",
    "false = \"false\"\n",
    "true = \"true\"\n",
    "d = \"Vignesh\"\n",
    "x = 500\n",
    "data = {\"entity\": \"event\", \"account_id\": \"acc_JVd1WsrdEtCC8L\", \"event\": \"payment.captured\", \"contains\": [\"payment\"], \"payload\": {\"payment\": {\"entity\": {\"id\": d , \"entity\": \"payment\", \"amount\": x, \"currency\": \"INR\", \"status\": \"captured\", \"order_id\": null, \"invoice_id\": null, \"international\": false, \"method\": \"upi\", \"amount_refunded\": 0, \"refund_status\": null, \"captured\": true, \"description\": \"QRv2 Payment\", \"card_id\": null, \"bank\": null, \"wallet\": null, \"vpa\": \"vigneshhegde1@ybl\", \"email\": null, \"contact\": null, \"notes\": [], \"fee\": 1, \"tax\": 0, \"error_code\": null, \"error_description\": null, \"error_source\": null, \"error_step\": null, \"error_reason\": null, \"acquirer_data\": {\"rrn\": \"215063005255\"}, \"created_at\": 1653933350}}}, \"created_at\": 1653933351}\n",
    "\n",
    "#data = {\"ID\":\"pay_JbWrLt9eQJOt3b\",\"Resolved\":1}\n",
    "\n",
    "url = \"http://vignesh4a.pythonanywhere.com/webhook\"\n",
    "\n",
    "r = requests.post(url,data=json.dumps(data),headers={'Content-Type':'application/json'})"
   ]
  },
  {
   "cell_type": "code",
   "execution_count": 42,
   "id": "acd47232",
   "metadata": {},
   "outputs": [
    {
     "ename": "NameError",
     "evalue": "name 'f' is not defined",
     "output_type": "error",
     "traceback": [
      "\u001b[1;31m---------------------------------------------------------------------------\u001b[0m",
      "\u001b[1;31mNameError\u001b[0m                                 Traceback (most recent call last)",
      "\u001b[1;32m<ipython-input-42-a9fcd54b25e7>\u001b[0m in \u001b[0;36m<module>\u001b[1;34m\u001b[0m\n\u001b[1;32m----> 1\u001b[1;33m \u001b[0mf\u001b[0m\u001b[1;33m\u001b[0m\u001b[1;33m\u001b[0m\u001b[0m\n\u001b[0m",
      "\u001b[1;31mNameError\u001b[0m: name 'f' is not defined"
     ]
    }
   ],
   "source": [
    "f"
   ]
  },
  {
   "cell_type": "code",
   "execution_count": 16,
   "id": "1298b73a",
   "metadata": {},
   "outputs": [
    {
     "name": "stdout",
     "output_type": "stream",
     "text": [
      "(1, 'pay_JbWrLt9eQJOt3b', 0)\n"
     ]
    }
   ],
   "source": [
    "import sqlite3\n",
    "from flask import Flask, request\n",
    "import requests, json\n",
    "\n",
    "conn = sqlite3.connect(\"transaction.sqlite\", check_same_thread=False)\n",
    "\n",
    "cur = conn.cursor()\n",
    "cur.execute(\"SELECT * FROM qr Order by Resolved ASC LIMIT 1;\")\n",
    "data = cur.fetchall()\n",
    "print(data[0][])\n",
    "cur.close()"
   ]
  },
  {
   "cell_type": "code",
   "execution_count": 14,
   "id": "5eaee37b",
   "metadata": {},
   "outputs": [],
   "source": [
    "data = {\"entity\": \"event\", \"account_id\": \"acc_JVd1WsrdEtCC8L\", \"event\": \"payment.captured\", \"contains\": [\"payment\"], \"payload\": {\"payment\": {\"entity\": {\"id\": d , \"entity\": \"payment\", \"amount\": 100, \"currency\": \"INR\", \"status\": \"captured\", \"order_id\": null, \"invoice_id\": null, \"international\": false, \"method\": \"upi\", \"amount_refunded\": 0, \"refund_status\": null, \"captured\": true, \"description\": \"QRv2 Payment\", \"card_id\": null, \"bank\": null, \"wallet\": null, \"vpa\": \"vigneshhegde1@ybl\", \"email\": null, \"contact\": null, \"notes\": [], \"fee\": 1, \"tax\": 0, \"error_code\": null, \"error_description\": null, \"error_source\": null, \"error_step\": null, \"error_reason\": null, \"acquirer_data\": {\"rrn\": \"215063005255\"}, \"created_at\": 1653933350}}}, \"created_at\": 1653933351}\n"
   ]
  },
  {
   "cell_type": "code",
   "execution_count": 20,
   "id": "9e7e0503",
   "metadata": {},
   "outputs": [
    {
     "data": {
      "text/plain": [
       "100"
      ]
     },
     "execution_count": 20,
     "metadata": {},
     "output_type": "execute_result"
    }
   ],
   "source": [
    "data['payload']['payment']['entity']['amount']"
   ]
  },
  {
   "cell_type": "code",
   "execution_count": 8,
   "id": "28fe73c5",
   "metadata": {},
   "outputs": [
    {
     "data": {
      "text/plain": [
       "16"
      ]
     },
     "execution_count": 8,
     "metadata": {},
     "output_type": "execute_result"
    }
   ],
   "source": [
    "len(\"Enjoy ur coffee.\")"
   ]
  },
  {
   "cell_type": "code",
   "execution_count": null,
   "id": "77d6ba55",
   "metadata": {},
   "outputs": [],
   "source": []
  }
 ],
 "metadata": {
  "kernelspec": {
   "display_name": "Python 3",
   "language": "python",
   "name": "python3"
  },
  "language_info": {
   "codemirror_mode": {
    "name": "ipython",
    "version": 3
   },
   "file_extension": ".py",
   "mimetype": "text/x-python",
   "name": "python",
   "nbconvert_exporter": "python",
   "pygments_lexer": "ipython3",
   "version": "3.8.8"
  }
 },
 "nbformat": 4,
 "nbformat_minor": 5
}
